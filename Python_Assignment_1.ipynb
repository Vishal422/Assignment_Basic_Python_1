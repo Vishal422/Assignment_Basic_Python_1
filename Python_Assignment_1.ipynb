{
 "cells": [
  {
   "cell_type": "markdown",
   "id": "e8d69a22",
   "metadata": {},
   "source": [
    "# 1. In the below elements which of them are values or an expression? "
   ]
  },
  {
   "cell_type": "markdown",
   "id": "a246823d",
   "metadata": {},
   "source": [
    "###   A.            *  This operater can be used for  Multiplication Operator  in math as well as python also "
   ]
  },
  {
   "cell_type": "markdown",
   "id": "caa9c3cf",
   "metadata": {},
   "source": [
    "####  Multiplication Operator ( * )\n",
    "\n",
    "The symbol \" * \" has multiple uses depending on the context. Here are a few common uses of the \" * \" symbol in Python:\n",
    "\n",
    "1. Multiplication Operator: The \"*\" symbol is primarily used as the multiplication operator in Python to perform multiplication between two numbers. \n",
    "\n",
    "For example: \n",
    "   ```a = 5\n",
    "      b = 5\n",
    "      c = a*b # we are multiplication here using * \n",
    "      print(c)  \n",
    "      \n",
    "      #output: 25\n",
    "   ```\n",
    "      a = 10\n",
    "      b = 3\n",
    "      print(a * b)  # we are Multiplication here using *\n",
    "      \n",
    "      Output: 30\n",
    "      \n",
    "      \n",
    "In this case, the multiplication operation multiplies 5 by 5 and returns the result 25.\n",
    "\n",
    "\n",
    "#### These are a common example uses of the \" * \" symbol in Python programming. "
   ]
  },
  {
   "cell_type": "markdown",
   "id": "cb4ea770",
   "metadata": {},
   "source": [
    "-------------------------------------------"
   ]
  },
  {
   "cell_type": "markdown",
   "id": "6069b745",
   "metadata": {},
   "source": [
    "###   B.  'hello': This is a string literal enclosed within in a single quotes, and we can also use  duble quotes , thriple qoutes and also  it is representing a value.\n",
    "\n",
    "For example:\n",
    "\n",
    "```python\n",
    "text = 'hello'\n",
    "print(text) \n",
    "\n",
    "# Output: hello\n",
    "```\n",
    "\n",
    "In this case, `'hello'` is a string literal assigned to the variable `text`. The `print` statement then displays the content of the `text` variable, which is the string \"hello\".\n",
    "\n",
    "Strings are used to represent and manipulate textual data in Python. They can contain letters, numbers, symbols, and whitespace. Additionally, strings in Python are immutable, meaning they cannot be changed once they are created. However, you can perform various operations on strings, such as concatenation, slicing, and formatting.\n",
    "\n"
   ]
  },
  {
   "cell_type": "markdown",
   "id": "c2d06057",
   "metadata": {},
   "source": [
    "#### For example\n",
    "\n",
    "    'hello AI World'   #single qoute\n",
    "    \"hello AI World\"   #dubble qoute\n",
    "    '''hello AI World''' # thriple qoute\n",
    "    \n",
    "           ''' we can consider as commment which is usefull to understand \\ \n",
    "           the bellow the code or any kind of constructed code  '''"
   ]
  },
  {
   "cell_type": "markdown",
   "id": "dfefa903",
   "metadata": {},
   "source": [
    "-----------------------------------"
   ]
  },
  {
   "cell_type": "markdown",
   "id": "700e6050",
   "metadata": {},
   "source": [
    "###  C.   -87.8  This is a floating-point number nagative , representing a value.    \n",
    "\n",
    "the value -87.8 represents a floating-point number. Floating-point numbers are used to represent decimal or fractional values in programming.\n",
    "\n",
    "In the given example, -87.8 is a negative floating-point number. The negative sign (-) indicates that the value is negative, and the digits after the decimal point (.8) represent the fractional part of the number.\n",
    "\n",
    "\n",
    "##### is this is can be  Nagative or Possitive value\n",
    "\n",
    "###### For example \n",
    "    -87.8 nagiative floting point\n",
    "     12.3 possitive floting point\n",
    "     \n",
    "   num = -87.8\n",
    "   result = num + 10.2\n",
    "   print(result)  \n",
    "  #Output: -77.6"
   ]
  },
  {
   "cell_type": "markdown",
   "id": "707677b7",
   "metadata": {},
   "source": [
    "--------------------------------------------------------"
   ]
  },
  {
   "cell_type": "markdown",
   "id": "46e6ad39",
   "metadata": {},
   "source": [
    "### D.   -   Subtraction Operator is a Ariothimatic operation, it is used for resprent the -ve value \n",
    "\n",
    "\n",
    "\n",
    "For example. \n",
    "        \n",
    "1. Subtraction Operator: The \"-\" symbol is used as a subtraction operator in Python to perform subtraction between two numbers. For example:\n",
    "\n",
    "   ```python\n",
    "   result = 10 - 5\n",
    "      print(result) \n",
    "        \n",
    "        # Output: 5\n",
    "   ```\n",
    "   \n",
    "   a = 20\n",
    "   b = 10\n",
    "         c = (a-b)\n",
    "         print(c)\n",
    "         \n",
    "        \n",
    "         # Output:  c  = -10\n",
    "        \n",
    "\n",
    "   In this case, the subtraction operation subtracts 10 from 20 and returns the result 10.\n",
    "\n",
    "2. Negation Operator: The \"-\" symbol can also be used as a negation operator to negate a number. \n",
    "\n",
    "For example:\n",
    "\n",
    "   ```   python\n",
    "         num = 7\n",
    "         neg_num = -num\n",
    "        print(neg_num)  # Output: -7\n",
    "   ```\n",
    "\n",
    "   Here, the negation operator (-) negates the value of the variable `num`, resulting in -7.\n",
    "\n",
    "3. Negative Numbers: The \"-\" symbol is used to represent negative numbers in Python. \n",
    "\n",
    "For example:\n",
    "\n",
    "   ```python\n",
    "   negative_num = -10\n",
    "    print(negative_num)  # Output: -10\n",
    "   ```\n",
    "\n",
    "   In this case, the negative sign (-) indicates that the number 10 is negative.\n",
    "\n",
    "####  These are a two common uses of the \"-\" symbol in Python programming. "
   ]
  },
  {
   "cell_type": "markdown",
   "id": "a444f255",
   "metadata": {},
   "source": [
    "--------------------------------------------------------"
   ]
  },
  {
   "cell_type": "markdown",
   "id": "27c98fc4",
   "metadata": {},
   "source": [
    "### E.  / Division Operator\n",
    "\n",
    "1. Division Operator: In Python, the \"/\" symbol is used as the division operator to perform division between two numbers. For example:\n",
    "\n",
    "\n",
    "   ```python\n",
    "   result = 10 / 2\n",
    "    print(result)  # Output: 5.0\n",
    "   ```\n",
    "\n",
    "   In this case, the division operation divides 10 by 2 and returns the floating-point result 5.0.\n",
    "\n",
    "2. Floating-Point Division: The \"/\" operator always performs floating-point division in Python, meaning it returns a decimal or floating-point result. Even if both operands are integers, the result will be a float. For example:\n",
    "\n",
    "   ```python\n",
    "   result = 9 / 2\n",
    "   print(result)  # Output: 4.5\n",
    "   ```\n",
    "\n",
    "   Here, the division of 9 by 2 results in 4.5, a floating-point number.\n",
    "\n",
    "3. Path Separator: In Python, the \"/\" symbol is also used as a path separator in file paths. For instance:\n",
    "\n",
    "   ```python\n",
    "   file_path = \"folder/subfolder/file.txt\"\n",
    "   ```\n",
    "\n",
    "   Here, the \"/\" separates the different levels of the file path, indicating that \"file.txt\" is inside the \"subfolder\" directory, which, in turn, is inside the \"folder\" directory.\n",
    "\n",
    "##### These are a few common uses of the \"/\" symbol in Python programming. "
   ]
  },
  {
   "cell_type": "code",
   "execution_count": null,
   "id": "f1d795a8",
   "metadata": {},
   "outputs": [],
   "source": []
  }
 ],
 "metadata": {
  "kernelspec": {
   "display_name": "Python 3 (ipykernel)",
   "language": "python",
   "name": "python3"
  },
  "language_info": {
   "codemirror_mode": {
    "name": "ipython",
    "version": 3
   },
   "file_extension": ".py",
   "mimetype": "text/x-python",
   "name": "python",
   "nbconvert_exporter": "python",
   "pygments_lexer": "ipython3",
   "version": "3.9.13"
  }
 },
 "nbformat": 4,
 "nbformat_minor": 5
}
